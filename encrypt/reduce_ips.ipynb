{
 "cells": [
  {
   "cell_type": "code",
   "execution_count": null,
   "metadata": {
    "dotnet_interactive": {
     "language": "fsharp"
    },
    "polyglot_notebook": {
     "kernelName": "fsharp"
    }
   },
   "outputs": [],
   "source": [
    "open System.IO\n",
    "open System.Diagnostics"
   ]
  },
  {
   "cell_type": "code",
   "execution_count": null,
   "metadata": {
    "dotnet_interactive": {
     "language": "pwsh"
    },
    "polyglot_notebook": {
     "kernelName": "pwsh"
    }
   },
   "outputs": [
    {
     "name": "stdout",
     "output_type": "stream",
     "text": [
      "\u001b[31;1mWarning: program compiled against libxml 212 using older 209\u001b[0m\n"
     ]
    }
   ],
   "source": [
    "tshark -r decrypt.pcap -Y \"dns\" -T fields -e ip.dst > gp_ips.txt"
   ]
  },
  {
   "cell_type": "code",
   "execution_count": null,
   "metadata": {
    "dotnet_interactive": {
     "language": "fsharp"
    },
    "polyglot_notebook": {
     "kernelName": "fsharp"
    }
   },
   "outputs": [],
   "source": [
    "let run (cmd) =\n",
    "    let startInfo = ProcessStartInfo()\n",
    "    startInfo.FileName <- \"/bin/zsh\"\n",
    "    startInfo.Arguments <- $\"-c \\\"{cmd}\\\"\"\n",
    "\n",
    "    startInfo.RedirectStandardOutput <- true\n",
    "    startInfo.RedirectStandardError <- true\n",
    "    \n",
    "    startInfo.UseShellExecute <- false\n",
    "    startInfo.CreateNoWindow <- true\n",
    "\n",
    "    use p = new Process()\n",
    "    p.StartInfo <- startInfo\n",
    "\n",
    "    p.OutputDataReceived.AddHandler(fun (sender: obj) (e: DataReceivedEventArgs) -> printf \"%s\\n\" e.Data)\n",
    "    p.ErrorDataReceived.AddHandler(fun (sender: obj) (e: DataReceivedEventArgs) -> printf \"%s\\n\" e.Data)\n",
    "\n",
    "    p.Start() |> ignore\n",
    "    p.BeginOutputReadLine()\n",
    "    p.BeginErrorReadLine()\n",
    "    p.WaitForExit()\n",
    "    p.Close()\n",
    "    \n",
    "let await _task = _task |> Async.AwaitTask |> Async.RunSynchronously"
   ]
  },
  {
   "cell_type": "code",
   "execution_count": null,
   "metadata": {
    "dotnet_interactive": {
     "language": "fsharp"
    },
    "polyglot_notebook": {
     "kernelName": "fsharp"
    }
   },
   "outputs": [
    {
     "name": "stdout",
     "output_type": "stream",
     "text": [
      "\n",
      "192.168.19.1\n",
      "192.168.19.245\n",
      "192.168.19.1\n",
      "192.168.19.245\n",
      "192.168.19.1\n",
      "192.168.19.245\n",
      "8.8.8.8\n",
      "192.168.19.245,8.8.8.8\n",
      "192.168.19.1\n",
      "192.168.19.245\n",
      "192.168.19.1\n",
      "192.168.19.245\n",
      "192.168.19.1\n",
      "192.168.19.245\n",
      "192.168.19.1\n",
      "192.168.19.245\n",
      "192.168.3.1\n",
      "192.168.3.1\n",
      "192.168.3.1\n",
      "192.168.3.1\n",
      "192.168.3.1\n",
      "192.168.3.1\n",
      "192.168.3.1\n",
      "192.168.3.245\n",
      "192.168.3.245\n",
      "192.168.3.245\n",
      "192.168.3.245\n",
      "192.168.3.1\n",
      "192.168.3.245\n",
      "192.168.3.1\n",
      "192.168.3.245\n",
      "192.168.3.1\n",
      "192.168.3.245\n",
      "192.168.3.245\n",
      "192.168.3.1\n",
      "192.168.3.1\n",
      "192.168.3.245\n",
      "192.168.3.245\n",
      "192.168.3.245\n",
      "192.168.3.1\n",
      "192.168.3.245\n",
      "192.168.3.1\n",
      "192.168.3.1\n",
      "192.168.3.1\n",
      "192.168.3.245\n",
      "192.168.3.245\n",
      "192.168.3.245\n",
      "192.168.3.245\n",
      "192.168.3.245\n",
      "192.168.3.245\n",
      "192.168.3.245\n",
      "192.168.3.245\n",
      "192.168.3.245\n",
      "192.168.3.245\n",
      "192.168.3.245\n",
      "192.168.3.245\n",
      "192.168.3.245\n",
      "192.168.3.245\n",
      "192.168.3.245\n",
      "192.168.3.245\n",
      "192.168.3.245\n",
      "192.168.3.245\n",
      "192.168.3.245\n",
      "192.168.3.245\n",
      "192.168.3.245\n",
      "192.168.3.245\n",
      "192.168.3.245\n",
      "192.168.3.245\n",
      "192.168.3.245\n",
      "192.168.3.245\n",
      "192.168.3.245\n",
      "192.168.3.245\n",
      "192.168.3.245\n",
      "192.168.3.245\n",
      "192.168.3.245\n",
      "192.168.3.245\n",
      "192.168.3.245\n",
      "192.168.3.245\n",
      "192.168.3.245\n",
      "192.168.3.245\n",
      "192.168.3.245\n",
      "192.168.3.1\n",
      "192.168.3.1\n",
      "192.168.3.245\n",
      "192.168.3.245\n",
      "192.168.3.1\n",
      "192.168.3.1\n",
      "192.168.3.245\n",
      "192.168.3.1\n",
      "192.168.3.1\n",
      "192.168.3.1\n",
      "192.168.3.1\n",
      "192.168.3.245\n",
      "192.168.3.1\n",
      "192.168.3.245\n",
      "192.168.3.1\n",
      "192.168.3.245\n",
      "192.168.3.1\n",
      "192.168.3.1\n",
      "192.168.3.245\n",
      "192.168.3.1\n",
      "192.168.3.1\n",
      "192.168.3.1\n",
      "192.168.3.245\n",
      "\n"
     ]
    }
   ],
   "source": [
    "run \"cat gp_ips.txt\" |> ignore"
   ]
  },
  {
   "cell_type": "code",
   "execution_count": null,
   "metadata": {
    "dotnet_interactive": {
     "language": "fsharp"
    },
    "polyglot_notebook": {
     "kernelName": "fsharp"
    }
   },
   "outputs": [],
   "source": [
    "let ips = File.ReadAllLinesAsync \"gp_ips.txt\" |> await"
   ]
  },
  {
   "cell_type": "code",
   "execution_count": null,
   "metadata": {
    "dotnet_interactive": {
     "language": "fsharp"
    },
    "polyglot_notebook": {
     "kernelName": "fsharp"
    }
   },
   "outputs": [],
   "source": [
    "ips |> Seq.take(5) |> Seq.iter (fun x -> printfn \"%s\" x)"
   ]
  },
  {
   "cell_type": "code",
   "execution_count": null,
   "metadata": {
    "dotnet_interactive": {
     "language": "fsharp"
    },
    "polyglot_notebook": {
     "kernelName": "fsharp"
    }
   },
   "outputs": [],
   "source": [
    "ips |> Seq.collect (fun line -> line.Split ',' ) \n",
    "    |> Seq.distinct \n",
    "    |> Seq.map (fun x -> printfn \"%s\" x) \n",
    "    |> Seq.length"
   ]
  }
 ],
 "metadata": {
  "kernelspec": {
   "display_name": ".NET (C#)",
   "language": "C#",
   "name": ".net-csharp"
  },
  "polyglot_notebook": {
   "kernelInfo": {
    "defaultKernelName": "csharp",
    "items": [
     {
      "aliases": [],
      "languageName": "csharp",
      "name": "csharp"
     }
    ]
   }
  }
 },
 "nbformat": 4,
 "nbformat_minor": 2
}
